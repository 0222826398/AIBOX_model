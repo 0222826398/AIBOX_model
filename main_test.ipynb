{
 "cells": [
  {
   "cell_type": "code",
   "execution_count": 1,
   "metadata": {},
   "outputs": [
    {
     "name": "stdout",
     "output_type": "stream",
     "text": [
      "Tue Jul 12 17:10:14 2022       \n",
      "+-----------------------------------------------------------------------------+\n",
      "| NVIDIA-SMI 516.40       Driver Version: 516.40       CUDA Version: 11.7     |\n",
      "|-------------------------------+----------------------+----------------------+\n",
      "| GPU  Name            TCC/WDDM | Bus-Id        Disp.A | Volatile Uncorr. ECC |\n",
      "| Fan  Temp  Perf  Pwr:Usage/Cap|         Memory-Usage | GPU-Util  Compute M. |\n",
      "|                               |                      |               MIG M. |\n",
      "|===============================+======================+======================|\n",
      "|   0  NVIDIA GeForce ... WDDM  | 00000000:01:00.0  On |                  N/A |\n",
      "| N/A   51C    P3    32W /  N/A |    489MiB /  8192MiB |     32%      Default |\n",
      "|                               |                      |                  N/A |\n",
      "+-------------------------------+----------------------+----------------------+\n",
      "                                                                               \n",
      "+-----------------------------------------------------------------------------+\n",
      "| Processes:                                                                  |\n",
      "|  GPU   GI   CI        PID   Type   Process name                  GPU Memory |\n",
      "|        ID   ID                                                   Usage      |\n",
      "|=============================================================================|\n",
      "|    0   N/A  N/A      2336    C+G   ...2txyewy\\TextInputHost.exe    N/A      |\n",
      "|    0   N/A  N/A      3656    C+G   ...artMenuExperienceHost.exe    N/A      |\n",
      "|    0   N/A  N/A      7428    C+G   ...gram Desktop\\Telegram.exe    N/A      |\n",
      "|    0   N/A  N/A     11704    C+G   ...5n1h2txyewy\\SearchApp.exe    N/A      |\n",
      "|    0   N/A  N/A     12620    C+G   ...cw5n1h2txyewy\\LockApp.exe    N/A      |\n",
      "|    0   N/A  N/A     21304    C+G   ...ekyb3d8bbwe\\YourPhone.exe    N/A      |\n",
      "|    0   N/A  N/A     25964    C+G   ...ekyb3d8bbwe\\HxOutlook.exe    N/A      |\n",
      "|    0   N/A  N/A     42572    C+G   ...ll\\1.0.0.475\\LineCall.exe    N/A      |\n",
      "|    0   N/A  N/A     45924    C+G   ...5n1h2txyewy\\SearchApp.exe    N/A      |\n",
      "|    0   N/A  N/A     50064    C+G   ...4__8wekyb3d8bbwe\\Time.exe    N/A      |\n",
      "|    0   N/A  N/A     54624    C+G   ...icrosoft VS Code\\Code.exe    N/A      |\n",
      "+-----------------------------------------------------------------------------+\n"
     ]
    }
   ],
   "source": [
    "!nvidia-smi"
   ]
  },
  {
   "cell_type": "markdown",
   "metadata": {},
   "source": [
    "# 資料讀取與前處理"
   ]
  },
  {
   "cell_type": "code",
   "execution_count": 20,
   "metadata": {},
   "outputs": [
    {
     "name": "stdout",
     "output_type": "stream",
     "text": [
      "original length of df: 4327876\n",
      "after droping null values, the length of df: 4327876\n"
     ]
    }
   ],
   "source": [
    "import numpy as np # linear algebra\n",
    "import pandas as pd # data processing, CSV file I/O (e.g. pd.read_csv)\n",
    "import os\n",
    "# 排序後資料集\n",
    "df = pd.read_csv(\"MachineLearningCSV/MachineLearningCVE/week_2.csv\")\n",
    "\n",
    "# 第二資料集\n",
    "df2 = pd.read_csv(\"MachineLearningCSV/Seg_NewDataSet/NewDataSet_25679_1.5m.csv\")\n",
    "\n",
    "# 資料集合併\n",
    "df = pd.concat([df, df2], axis = 0, ignore_index = True)\n",
    "\n",
    "\n",
    "# 丟掉部分資料\n",
    "# df = df.drop([\"Destination Port\"], axis = 1)\n",
    "\n",
    "# 取部分資料(取前二十特徵)\n",
    "# df = df[[\"Flow Duration\", \"Bwd Packet Length Max\", \"Bwd Packet Length Min\", \"Bwd Packet Length Mean\", \"Bwd Packet Length Std\", \"Flow IAT Std\",\n",
    "#          \"Flow IAT Max\", \"Fwd IAT Total\", \"Fwd IAT Std\", \"Fwd IAT Max\", \"Min Packet Length\", \"Max Packet Length\", \"Packet Length Mean\", \"Packet Length Std\",\n",
    "#          \"Packet Length Variance\", \"Average Packet Size\", \"Avg Bwd Segment Size\", \"Idle Mean\", \"Idle Max\", \"Idle Min\",\"Label\"]]\n",
    "\n",
    "\n",
    "df.columns = df.columns.str.strip()\n",
    "print(\"original length of df:\", len(df))\n",
    "df.replace([np.inf, -np.inf], np.nan, inplace=True)\n",
    "df.dropna(inplace=True)\n",
    "print(\"after droping null values, the length of df:\", len(df))"
   ]
  },
  {
   "cell_type": "code",
   "execution_count": 21,
   "metadata": {},
   "outputs": [
    {
     "data": {
      "text/plain": [
       "BENIGN    2273574\n",
       "attack    2054302\n",
       "Name: Label, dtype: int64"
      ]
     },
     "execution_count": 21,
     "metadata": {},
     "output_type": "execute_result"
    }
   ],
   "source": [
    "# 2-calss or Multiclass\n",
    "df_experiment = df.copy()\n",
    "df_experiment.Label.replace(\"Web.*\", \"Web Attack\", regex=True, inplace=True)\n",
    "df_experiment.Label.replace(r'.*Patator$', \"Brute Force\", regex=True,inplace=True)\n",
    "df_experiment.Label.replace([\"DoS GoldenEye\", \"DoS Hulk\", \"DoS Slowhttptest\", \"DoS slowloris\"], \"DoS\", inplace=True)\n",
    "\n",
    "# for new dataset, class_attack = ['Syn', 'UDP-lag']\n",
    "df_experiment.Label.replace([\"DrDoS.*\", \"WebDDoS\"], \"DDoS\", regex=True, inplace=True)\n",
    "\n",
    "\n",
    "class_attack = ['PortScan', 'Web Attack', 'Brute Force', 'DDoS', 'Bot','Infiltration', 'DoS', 'Heartbleed', 'Syn', 'UDP-lag']\n",
    "df_experiment.Label.replace(class_attack, value='attack', inplace=True)\n",
    "df_experiment.Label.value_counts()"
   ]
  },
  {
   "cell_type": "code",
   "execution_count": 22,
   "metadata": {},
   "outputs": [
    {
     "name": "stdout",
     "output_type": "stream",
     "text": [
      "(4327876, 20)\n",
      "number of labels: 2\n",
      "instances per label\n",
      " BENIGN    2273574\n",
      "attack    2054302\n",
      "Name: Label, dtype: int64\n",
      "labels: ['BENIGN' 'attack']\n",
      "after spliting the data:\n",
      "\n",
      "training data length: 3245907\n",
      "test data length: 1081969\n"
     ]
    }
   ],
   "source": [
    "# data split and preprocess\n",
    "from sklearn.model_selection import train_test_split\n",
    "from collections import Counter\n",
    "from sklearn import preprocessing\n",
    "\n",
    "y = df_experiment.Label\n",
    "X = df_experiment.drop(columns='Label')\n",
    "labels = y.unique()\n",
    "\n",
    "std_scaler = preprocessing.StandardScaler().fit(X)\n",
    "X = std_scaler.transform(X)\n",
    "\n",
    "classes = y.nunique()\n",
    "print(X.shape)\n",
    "print(\"number of labels:\", classes)\n",
    "print(\"instances per label\\n\", y.value_counts())\n",
    "print(\"labels:\", labels)\n",
    "\n",
    "X_train, X_test, y_train, y_test = train_test_split(X, y, random_state=42, stratify=y)\n",
    "# print(len(df_experiment))\n",
    "# print(df_experiment.Label.nunique())\n",
    "# print(df_experiment.Label.value_counts())\n",
    "print(\"after spliting the data:\\n\")\n",
    "print(\"training data length:\", len(X_train))\n",
    "print(\"test data length:\", len(X_test))\n",
    "# print(y_train.nunique())\n",
    "# print(y_train.value_counts())"
   ]
  },
  {
   "cell_type": "code",
   "execution_count": 23,
   "metadata": {},
   "outputs": [
    {
     "name": "stdout",
     "output_type": "stream",
     "text": [
      "instances per label in training set\n",
      " BENIGN    1705180\n",
      "attack    1540727\n",
      "Name: Label, dtype: int64\n",
      "instances per label in test set\n",
      " BENIGN    568394\n",
      "attack    513575\n",
      "Name: Label, dtype: int64\n",
      "(3245907, 20)\n",
      "(1081969, 20)\n",
      "{'BENIGN': 0, 'attack': 1}\n"
     ]
    }
   ],
   "source": [
    "# 資料前處理\n",
    "from sklearn.preprocessing import OneHotEncoder, LabelEncoder, MinMaxScaler\n",
    "mm_scaler = MinMaxScaler()\n",
    "le = LabelEncoder()\n",
    "\n",
    "X_train = mm_scaler.fit_transform(X_train)\n",
    "X_test = mm_scaler.transform(X_test)\n",
    "print(\"instances per label in training set\\n\", y_train.value_counts())\n",
    "y_train = le.fit_transform(y_train)\n",
    "print(\"instances per label in test set\\n\", y_test.value_counts())\n",
    "y_test = le.transform(y_test)\n",
    "\n",
    "print(X_train.shape)\n",
    "print(X_test.shape)\n",
    "labels_dict = dict(zip(le.classes_, range(len(le.classes_))))\n",
    "print(labels_dict)"
   ]
  },
  {
   "cell_type": "code",
   "execution_count": null,
   "metadata": {},
   "outputs": [],
   "source": [
    "# 資料選擇 / 目前沒做\n",
    "### transform ndarray into dataframe type for later operation.\n",
    "X_train = pd.DataFrame(X_train)\n",
    "X_test = pd.DataFrame(X_test)\n",
    "\n",
    "from sklearn.feature_selection import f_classif\n",
    "### Compute the ANOVA F-value \n",
    "f_value = f_classif(X_train, y_train)\n",
    "\n",
    "# f_value = pd.Series(f_value)\n",
    "# f_value.index = X_train.columns\n",
    "# f_value.sort_values(ascending=False)\n",
    "\n",
    "# ### plot the ordered f_value per feature\n",
    "# f_value.sort_values(ascending=False).plot.bar(figsize=(20, 8))\n",
    "\n",
    "### Now we select the top 10 important features based on the result above.\n",
    "from sklearn.feature_selection import SelectKBest\n",
    "sel_top_cols = SelectKBest(f_classif, k=10)\n",
    "sel_top_cols.fit(X_train, y_train)\n",
    "X_train.columns[sel_top_cols.get_support()]\n",
    "\n",
    "### transform ndarray back:\n",
    "X_train = X_train.values\n",
    "X_test = X_test.values"
   ]
  },
  {
   "cell_type": "code",
   "execution_count": 24,
   "metadata": {},
   "outputs": [
    {
     "data": {
      "text/plain": [
       "['exe/new_model/25679_std_mm_le_20_feature.save']"
      ]
     },
     "execution_count": 24,
     "metadata": {},
     "output_type": "execute_result"
    }
   ],
   "source": [
    "#儲存資料前處理資料\n",
    "import joblib as jb\n",
    "\n",
    "# jb.dump([std_scaler, mm_scaler, le], 'model/std_mm_le_all_feature.save')\n",
    "jb.dump([std_scaler, mm_scaler, le], 'exe/new_model/25679_std_mm_le_20_feature.save')"
   ]
  },
  {
   "cell_type": "code",
   "execution_count": 22,
   "metadata": {},
   "outputs": [
    {
     "data": {
      "text/plain": [
       "BENIGN    2272895\n",
       "attack    2054981\n",
       "Name: Label, dtype: int64"
      ]
     },
     "execution_count": 22,
     "metadata": {},
     "output_type": "execute_result"
    }
   ],
   "source": [
    "df_experiment.Label.value_counts()"
   ]
  },
  {
   "cell_type": "markdown",
   "metadata": {},
   "source": [
    "# Random Forest"
   ]
  },
  {
   "cell_type": "code",
   "execution_count": 36,
   "metadata": {},
   "outputs": [
    {
     "name": "stdout",
     "output_type": "stream",
     "text": [
      "[0 0 0 ... 1 0 0]\n",
      "(1081969,)\n",
      "percentage of Anomaly: 52.031989825956195\n",
      "percentage of Legit: 47.968010174043805\n"
     ]
    }
   ],
   "source": [
    "###### Random Forest\n",
    "from sklearn.ensemble import RandomForestClassifier\n",
    "import joblib as jb\n",
    "\n",
    "rng = np.random.RandomState(42)\n",
    "\n",
    "# model = jb.load(\"new_model/pkl/0.5_randomForest_test.pkl\")\n",
    "model = RandomForestClassifier(n_estimators = 256, random_state=rng)\n",
    "model.fit(X_train, y_train)\n",
    "\n",
    "y_pred = model.predict(X_test)\n",
    "print(y_pred)\n",
    "print(y_pred.shape)\n",
    "\n",
    "print(\"percentage of Anomaly:\", (list(y_pred).count(1)/y_pred.shape[0])*100)\n",
    "print(\"percentage of Legit:\",(list(y_pred).count(0)/y_pred.shape[0])*100)"
   ]
  },
  {
   "cell_type": "code",
   "execution_count": 12,
   "metadata": {},
   "outputs": [
    {
     "data": {
      "text/plain": [
       "array(['BENIGN', 'attack'], dtype=object)"
      ]
     },
     "execution_count": 12,
     "metadata": {},
     "output_type": "execute_result"
    }
   ],
   "source": [
    "y.unique()"
   ]
  },
  {
   "cell_type": "code",
   "execution_count": 35,
   "metadata": {},
   "outputs": [
    {
     "data": {
      "text/plain": [
       "array([[518294,  50100],\n",
       "       [   657, 512918]], dtype=int64)"
      ]
     },
     "execution_count": 35,
     "metadata": {},
     "output_type": "execute_result"
    }
   ],
   "source": [
    "# 混淆矩陣\n",
    "from sklearn.metrics import confusion_matrix\n",
    "cf_matrix = confusion_matrix(y_test, y_pred)\n",
    "tn, fp, fn, tp = cf_matrix.ravel()\n",
    "cf_matrix"
   ]
  },
  {
   "cell_type": "code",
   "execution_count": 39,
   "metadata": {},
   "outputs": [
    {
     "data": {
      "image/png": "[encoded data removed]",
      "text/plain": [
       "<Figure size 432x288 with 2 Axes>"
      ]
     },
     "metadata": {
      "needs_background": "light"
     },
     "output_type": "display_data"
    }
   ],
   "source": [
    "import seaborn as sns\n",
    "import matplotlib.pyplot as plt \n",
    "ax = sns.heatmap(cf_matrix, annot=True, cmap='Blues')\n",
    "\n",
    "ax.set_title('Confusion Matrix with labels\\n\\n');\n",
    "ax.set_xlabel('\\nPredicted Values')\n",
    "ax.set_ylabel('Actual Values ');\n",
    "\n",
    "## Ticket labels - List must be in alphabetical order\n",
    "# ax.xaxis.set_ticklabels(['BENIGN','Attack'])\n",
    "# ax.yaxis.set_ticklabels(['BENIGN','Attack'])\n",
    "\n",
    "## Display the visualization of the Confusion Matrix.\n",
    "plt.show()\n",
    "\n",
    "# plt.savefig('img/new_confusion_matrix_32.png')\n",
    "# plt.savefig('new_img/confusion_matrix_20_feature_32_1.5m.png', bbox_inches = 'tight')"
   ]
  },
  {
   "cell_type": "code",
   "execution_count": null,
   "metadata": {},
   "outputs": [],
   "source": []
  },
  {
   "cell_type": "code",
   "execution_count": null,
   "metadata": {},
   "outputs": [],
   "source": []
  },
  {
   "cell_type": "code",
   "execution_count": 28,
   "metadata": {},
   "outputs": [],
   "source": [
    "from sklearn.metrics import classification_report, multilabel_confusion_matrix\n",
    "def multilabel_matrix(y_true, y_pred, labels=None):\n",
    "    mlm = multilabel_confusion_matrix(y_true, y_pred, labels=labels)\n",
    "    df_performance = pd.DataFrame(index=labels, columns=['accuracy', 'precision',\n",
    "                                                         'recall', 'f1_score', 'support'])\n",
    "    for i, label in enumerate(labels):\n",
    "        tn, fp, fn, tp = mlm[i].ravel()\n",
    "        accuracy = (tn + tp) / (tn + fp + fn + tp)\n",
    "        precision = tp / (tp + fp)\n",
    "        recall = tp / (tp + fn)\n",
    "        support = tp + fn\n",
    "\n",
    "        f1_score = 2*precision * recall / (precision + recall)\n",
    "        df_performance.loc[label] = [round(accuracy, 4), round(precision,4), \\\n",
    "                                     round(recall, 4), round(f1_score,4), support]\n",
    "    return df_performance"
   ]
  },
  {
   "cell_type": "code",
   "execution_count": 29,
   "metadata": {},
   "outputs": [
    {
     "name": "stdout",
     "output_type": "stream",
     "text": [
      "              precision    recall  f1-score   support\n",
      "\n",
      "      BENIGN       1.00      0.91      0.95    568394\n",
      "      attack       0.91      1.00      0.95    513575\n",
      "\n",
      "    accuracy                           0.95   1081969\n",
      "   macro avg       0.95      0.96      0.95   1081969\n",
      "weighted avg       0.96      0.95      0.95   1081969\n",
      "\n"
     ]
    },
    {
     "data": {
      "text/html": [
       "<div>\n",
       "<style scoped>\n",
       "    .dataframe tbody tr th:only-of-type {\n",
       "        vertical-align: middle;\n",
       "    }\n",
       "\n",
       "    .dataframe tbody tr th {\n",
       "        vertical-align: top;\n",
       "    }\n",
       "\n",
       "    .dataframe thead th {\n",
       "        text-align: right;\n",
       "    }\n",
       "</style>\n",
       "<table border=\"1\" class=\"dataframe\">\n",
       "  <thead>\n",
       "    <tr style=\"text-align: right;\">\n",
       "      <th></th>\n",
       "      <th>accuracy</th>\n",
       "      <th>precision</th>\n",
       "      <th>recall</th>\n",
       "      <th>f1_score</th>\n",
       "      <th>support</th>\n",
       "    </tr>\n",
       "  </thead>\n",
       "  <tbody>\n",
       "    <tr>\n",
       "      <th>BENIGN</th>\n",
       "      <td>0.9532</td>\n",
       "      <td>0.9118</td>\n",
       "      <td>0.999</td>\n",
       "      <td>0.9534</td>\n",
       "      <td>518804</td>\n",
       "    </tr>\n",
       "    <tr>\n",
       "      <th>attack</th>\n",
       "      <td>0.9532</td>\n",
       "      <td>0.9989</td>\n",
       "      <td>0.911</td>\n",
       "      <td>0.9529</td>\n",
       "      <td>563165</td>\n",
       "    </tr>\n",
       "  </tbody>\n",
       "</table>\n",
       "</div>"
      ],
      "text/plain": [
       "       accuracy precision recall f1_score support\n",
       "BENIGN   0.9532    0.9118  0.999   0.9534  518804\n",
       "attack   0.9532    0.9989  0.911   0.9529  563165"
      ]
     },
     "execution_count": 29,
     "metadata": {},
     "output_type": "execute_result"
    }
   ],
   "source": [
    "from sklearn.metrics import classification_report, multilabel_confusion_matrix\n",
    "y_train_pred_labels = le.inverse_transform(y_pred)\n",
    "y_train_labels = le.inverse_transform(y_test)\n",
    "print(classification_report(y_train_labels, y_train_pred_labels))\n",
    "\n",
    "performance = multilabel_matrix(y_train_pred_labels, y_train_labels, labels=le.classes_)\n",
    "performance"
   ]
  },
  {
   "cell_type": "code",
   "execution_count": null,
   "metadata": {},
   "outputs": [],
   "source": []
  },
  {
   "cell_type": "code",
   "execution_count": null,
   "metadata": {},
   "outputs": [],
   "source": []
  },
  {
   "cell_type": "markdown",
   "metadata": {},
   "source": [
    "# 儲存模型檔"
   ]
  },
  {
   "cell_type": "code",
   "execution_count": 31,
   "metadata": {},
   "outputs": [
    {
     "data": {
      "text/plain": [
       "['exe/new_model/pkl/25679_randomForest_20_feature_32.pkl']"
      ]
     },
     "execution_count": 31,
     "metadata": {},
     "output_type": "execute_result"
    }
   ],
   "source": [
    "# jb.dump(model, 'model/pkl/new_20_feature_randomForest_32.pkl')\n",
    "jb.dump(model, 'exe/new_model/pkl/25679_randomForest_20_feature_32.pkl')"
   ]
  },
  {
   "cell_type": "code",
   "execution_count": null,
   "metadata": {},
   "outputs": [],
   "source": []
  }
 ],
 "metadata": {
  "kernelspec": {
   "display_name": "Python 3.7.6 64-bit",
   "language": "python",
   "name": "python3"
  },
  "language_info": {
   "codemirror_mode": {
    "name": "ipython",
    "version": 3
   },
   "file_extension": ".py",
   "mimetype": "text/x-python",
   "name": "python",
   "nbconvert_exporter": "python",
   "pygments_lexer": "ipython3",
   "version": "3.7.6"
  },
  "orig_nbformat": 4,
  "vscode": {
   "interpreter": {
    "hash": "3499bcc59dd07de3752bcaf4b431b7cc0c8d7df018f3c7c8f72730d6f0400322"
   }
  }
 },
 "nbformat": 4,
 "nbformat_minor": 2
}
