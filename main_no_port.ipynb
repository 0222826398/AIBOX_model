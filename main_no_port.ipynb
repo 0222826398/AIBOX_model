{
 "cells": [
  {
   "cell_type": "code",
   "execution_count": 1,
   "metadata": {},
   "outputs": [
    {
     "name": "stdout",
     "output_type": "stream",
     "text": [
      "Tue Jul 12 17:10:14 2022       \n",
      "+-----------------------------------------------------------------------------+\n",
      "| NVIDIA-SMI 516.40       Driver Version: 516.40       CUDA Version: 11.7     |\n",
      "|-------------------------------+----------------------+----------------------+\n",
      "| GPU  Name            TCC/WDDM | Bus-Id        Disp.A | Volatile Uncorr. ECC |\n",
      "| Fan  Temp  Perf  Pwr:Usage/Cap|         Memory-Usage | GPU-Util  Compute M. |\n",
      "|                               |                      |               MIG M. |\n",
      "|===============================+======================+======================|\n",
      "|   0  NVIDIA GeForce ... WDDM  | 00000000:01:00.0  On |                  N/A |\n",
      "| N/A   51C    P3    32W /  N/A |    489MiB /  8192MiB |     32%      Default |\n",
      "|                               |                      |                  N/A |\n",
      "+-------------------------------+----------------------+----------------------+\n",
      "                                                                               \n",
      "+-----------------------------------------------------------------------------+\n",
      "| Processes:                                                                  |\n",
      "|  GPU   GI   CI        PID   Type   Process name                  GPU Memory |\n",
      "|        ID   ID                                                   Usage      |\n",
      "|=============================================================================|\n",
      "|    0   N/A  N/A      2336    C+G   ...2txyewy\\TextInputHost.exe    N/A      |\n",
      "|    0   N/A  N/A      3656    C+G   ...artMenuExperienceHost.exe    N/A      |\n",
      "|    0   N/A  N/A      7428    C+G   ...gram Desktop\\Telegram.exe    N/A      |\n",
      "|    0   N/A  N/A     11704    C+G   ...5n1h2txyewy\\SearchApp.exe    N/A      |\n",
      "|    0   N/A  N/A     12620    C+G   ...cw5n1h2txyewy\\LockApp.exe    N/A      |\n",
      "|    0   N/A  N/A     21304    C+G   ...ekyb3d8bbwe\\YourPhone.exe    N/A      |\n",
      "|    0   N/A  N/A     25964    C+G   ...ekyb3d8bbwe\\HxOutlook.exe    N/A      |\n",
      "|    0   N/A  N/A     42572    C+G   ...ll\\1.0.0.475\\LineCall.exe    N/A      |\n",
      "|    0   N/A  N/A     45924    C+G   ...5n1h2txyewy\\SearchApp.exe    N/A      |\n",
      "|    0   N/A  N/A     50064    C+G   ...4__8wekyb3d8bbwe\\Time.exe    N/A      |\n",
      "|    0   N/A  N/A     54624    C+G   ...icrosoft VS Code\\Code.exe    N/A      |\n",
      "+-----------------------------------------------------------------------------+\n"
     ]
    }
   ],
   "source": [
    "!nvidia-smi"
   ]
  },
  {
   "cell_type": "markdown",
   "metadata": {},
   "source": [
    "# 資料讀取與前處理"
   ]
  },
  {
   "cell_type": "code",
   "execution_count": 2,
   "metadata": {},
   "outputs": [
    {
     "name": "stdout",
     "output_type": "stream",
     "text": [
      "MachineLearningCSV/MachineLearningCVE\\Friday-WorkingHours-Afternoon-DDos.pcap_ISCX.csv\n",
      "MachineLearningCSV/MachineLearningCVE\\Friday-WorkingHours-Afternoon-PortScan.pcap_ISCX.csv\n",
      "MachineLearningCSV/MachineLearningCVE\\Friday-WorkingHours-Morning.pcap_ISCX.csv\n",
      "MachineLearningCSV/MachineLearningCVE\\Monday-WorkingHours.pcap_ISCX.csv\n",
      "MachineLearningCSV/MachineLearningCVE\\Thursday-WorkingHours-Afternoon-Infilteration.pcap_ISCX.csv\n",
      "MachineLearningCSV/MachineLearningCVE\\Thursday-WorkingHours-Morning-WebAttacks.pcap_ISCX.csv\n",
      "MachineLearningCSV/MachineLearningCVE\\Tuesday-WorkingHours.pcap_ISCX.csv\n",
      "MachineLearningCSV/MachineLearningCVE\\Wednesday-workingHours.pcap_ISCX.csv\n",
      "MachineLearningCSV/MachineLearningCVE\\week.csv\n",
      "MachineLearningCSV/MachineLearningCVE\\week_2.csv\n"
     ]
    }
   ],
   "source": [
    "import numpy as np # linear algebra\n",
    "import pandas as pd # data processing, CSV file I/O (e.g. pd.read_csv)\n",
    "import os\n",
    "\n",
    "csv_files = []\n",
    "for dirname, _, filenames in os.walk('MachineLearningCSV/MachineLearningCVE'):\n",
    "    for filename in filenames:\n",
    "        csv_file = os.path.join(dirname, filename)\n",
    "        print(os.path.join(dirname, filename))\n",
    "        csv_files.append(csv_file)"
   ]
  },
  {
   "cell_type": "code",
   "execution_count": 4,
   "metadata": {},
   "outputs": [
    {
     "name": "stdout",
     "output_type": "stream",
     "text": [
      "original length of df: 2830743\n",
      "after droping null values, the length of df: 2827876\n"
     ]
    }
   ],
   "source": [
    "# 原始資料集\n",
    "# df = pd.concat([pd.read_csv(file) for file in csv_files[:8]], ignore_index=True)\n",
    "# 排序後資料集\n",
    "df = pd.read_csv(\"MachineLearningCSV/MachineLearningCVE/week_2.csv\",index_col = 0)\n",
    "\n",
    "df = df.drop([\"Destination Port\"], axis = 1)\n",
    "\n",
    "df.columns = df.columns.str.strip()\n",
    "print(\"original length of df:\", len(df))\n",
    "df.replace([np.inf, -np.inf], np.nan, inplace=True)\n",
    "df.dropna(inplace=True)\n",
    "print(\"after droping null values, the length of df:\", len(df))"
   ]
  },
  {
   "cell_type": "code",
   "execution_count": 5,
   "metadata": {},
   "outputs": [
    {
     "data": {
      "text/plain": [
       "BENIGN    2271320\n",
       "attack     556556\n",
       "Name: Label, dtype: int64"
      ]
     },
     "execution_count": 5,
     "metadata": {},
     "output_type": "execute_result"
    }
   ],
   "source": [
    "# 2-calss or Multiclass\n",
    "df_experiment = df.copy()\n",
    "df_experiment.Label.replace(\"Web.*\", \"Web Attack\", regex=True, inplace=True)\n",
    "df_experiment.Label.replace(r'.*Patator$', \"Brute Force\", regex=True,inplace=True)\n",
    "df_experiment.Label.replace([\"DoS GoldenEye\", \"DoS Hulk\", \"DoS Slowhttptest\", \"DoS slowloris\"], \"DoS\", inplace=True)\n",
    "\n",
    "class_attack = ['PortScan', 'Web Attack', 'Brute Force', 'DDoS', 'Bot','Infiltration', 'DoS', 'Heartbleed']\n",
    "df_experiment.Label.replace(class_attack, value='attack', inplace=True)\n",
    "df_experiment.Label.value_counts()"
   ]
  },
  {
   "cell_type": "code",
   "execution_count": 6,
   "metadata": {},
   "outputs": [
    {
     "name": "stdout",
     "output_type": "stream",
     "text": [
      "(2827876, 76)\n",
      "number of labels: 2\n",
      "instances per label\n",
      " BENIGN    2271320\n",
      "attack     556556\n",
      "Name: Label, dtype: int64\n",
      "labels: ['BENIGN' 'attack']\n",
      "after spliting the data:\n",
      "\n",
      "training data length: 2120907\n",
      "test data length: 706969\n"
     ]
    }
   ],
   "source": [
    "# data split and preprocess\n",
    "from sklearn.model_selection import train_test_split\n",
    "from collections import Counter\n",
    "from sklearn import preprocessing\n",
    "\n",
    "y = df_experiment.Label\n",
    "X = df_experiment.drop(columns='Label')\n",
    "labels = y.unique()\n",
    "\n",
    "std_scaler = preprocessing.StandardScaler().fit(X)\n",
    "X = std_scaler.transform(X)\n",
    "\n",
    "classes = y.nunique()\n",
    "print(X.shape)\n",
    "print(\"number of labels:\", classes)\n",
    "print(\"instances per label\\n\", y.value_counts())\n",
    "print(\"labels:\", labels)\n",
    "\n",
    "X_train, X_test, y_train, y_test = train_test_split(X, y, random_state=42, stratify=y)\n",
    "# print(len(df_experiment))\n",
    "# print(df_experiment.Label.nunique())\n",
    "# print(df_experiment.Label.value_counts())\n",
    "print(\"after spliting the data:\\n\")\n",
    "print(\"training data length:\", len(X_train))\n",
    "print(\"test data length:\", len(X_test))\n",
    "# print(y_train.nunique())\n",
    "# print(y_train.value_counts())"
   ]
  },
  {
   "cell_type": "code",
   "execution_count": 7,
   "metadata": {},
   "outputs": [
    {
     "name": "stdout",
     "output_type": "stream",
     "text": [
      "instances per label in training set\n",
      " BENIGN    1703490\n",
      "attack     417417\n",
      "Name: Label, dtype: int64\n",
      "instances per label in test set\n",
      " BENIGN    567830\n",
      "attack    139139\n",
      "Name: Label, dtype: int64\n",
      "(2120907, 76)\n",
      "(706969, 76)\n",
      "{'BENIGN': 0, 'attack': 1}\n"
     ]
    }
   ],
   "source": [
    "# 資料前處理\n",
    "from sklearn.preprocessing import OneHotEncoder, LabelEncoder, MinMaxScaler\n",
    "# enc = OneHotEncoder(handle_unknown='ignore')\n",
    "mm_scaler = MinMaxScaler()\n",
    "le = LabelEncoder()\n",
    "\n",
    "X_train = mm_scaler.fit_transform(X_train)\n",
    "X_test = mm_scaler.transform(X_test)\n",
    "print(\"instances per label in training set\\n\", y_train.value_counts())\n",
    "y_train = le.fit_transform(y_train)\n",
    "print(\"instances per label in test set\\n\", y_test.value_counts())\n",
    "y_test = le.transform(y_test)\n",
    "\n",
    "print(X_train.shape)\n",
    "print(X_test.shape)\n",
    "labels_dict = dict(zip(le.classes_, range(len(le.classes_))))\n",
    "print(labels_dict)\n",
    "\n",
    "\n",
    "### training data sampling\n",
    "# from imblearn.over_sampling import SMOTE\n",
    "# from imblearn.under_sampling import RandomUnderSampler\n",
    "# from imblearn.pipeline import Pipeline\n",
    "# from collections import Counter\n",
    "# over = SMOTE(sampling_strategy='not majority', n_jobs=-1)\n",
    "# under = RandomUnderSampler(sampling_strategy=\n",
    "#                              {labels_dict['BENIGN']:200000})\n",
    "# # steps = [('u', under), ('o', over)]\n",
    "# steps = [('o', over)]\n",
    "# pipeline = Pipeline(steps=steps)\n",
    "# X_train, y_train = pipeline.fit_resample(X_train, y_train)\n",
    "# counter = Counter(y_train)\n",
    "# print(counter)"
   ]
  },
  {
   "cell_type": "code",
   "execution_count": null,
   "metadata": {},
   "outputs": [],
   "source": [
    "# 資料選擇 / 目前沒做\n",
    "### transform ndarray into dataframe type for later operation.\n",
    "X_train = pd.DataFrame(X_train)\n",
    "X_test = pd.DataFrame(X_test)\n",
    "\n",
    "from sklearn.feature_selection import f_classif\n",
    "### Compute the ANOVA F-value \n",
    "f_value = f_classif(X_train, y_train)\n",
    "\n",
    "# f_value = pd.Series(f_value)\n",
    "# f_value.index = X_train.columns\n",
    "# f_value.sort_values(ascending=False)\n",
    "\n",
    "# ### plot the ordered f_value per feature\n",
    "# f_value.sort_values(ascending=False).plot.bar(figsize=(20, 8))\n",
    "\n",
    "### Now we select the top 10 important features based on the result above.\n",
    "from sklearn.feature_selection import SelectKBest\n",
    "sel_top_cols = SelectKBest(f_classif, k=10)\n",
    "sel_top_cols.fit(X_train, y_train)\n",
    "X_train.columns[sel_top_cols.get_support()]\n",
    "\n",
    "### transform ndarray back:\n",
    "X_train = X_train.values\n",
    "X_test = X_test.values"
   ]
  },
  {
   "cell_type": "code",
   "execution_count": 8,
   "metadata": {},
   "outputs": [
    {
     "data": {
      "text/plain": [
       "['model/std_mm_le_no_port.save']"
      ]
     },
     "execution_count": 8,
     "metadata": {},
     "output_type": "execute_result"
    }
   ],
   "source": [
    "#儲存資料前處理資料\n",
    "import joblib as jb\n",
    "\n",
    "# jb.dump([std_scaler, mm_scaler, le], 'model/std_mm_le_no_port.save')"
   ]
  },
  {
   "cell_type": "code",
   "execution_count": null,
   "metadata": {},
   "outputs": [],
   "source": []
  },
  {
   "cell_type": "markdown",
   "metadata": {},
   "source": [
    "# Random Forest"
   ]
  },
  {
   "cell_type": "code",
   "execution_count": 9,
   "metadata": {},
   "outputs": [
    {
     "name": "stdout",
     "output_type": "stream",
     "text": [
      "[0 0 1 ... 0 0 0]\n",
      "(706969,)\n",
      "percentage of Anomaly: 19.644991505992486\n",
      "percentage of Legit: 80.35500849400752\n"
     ]
    }
   ],
   "source": [
    "###### Random Forest\n",
    "from sklearn.ensemble import RandomForestClassifier\n",
    "\n",
    "rng = np.random.RandomState(42)\n",
    "\n",
    "model = RandomForestClassifier(n_estimators = 32, random_state=rng)\n",
    "model.fit(X_train, y_train)\n",
    "\n",
    "y_pred = model.predict(X_test)\n",
    "print(y_pred)\n",
    "print(y_pred.shape)\n",
    "\n",
    "print(\"percentage of Anomaly:\", (list(y_pred).count(1)/y_pred.shape[0])*100)\n",
    "print(\"percentage of Legit:\",(list(y_pred).count(0)/y_pred.shape[0])*100)"
   ]
  },
  {
   "cell_type": "code",
   "execution_count": 12,
   "metadata": {},
   "outputs": [
    {
     "data": {
      "text/plain": [
       "array(['BENIGN', 'attack'], dtype=object)"
      ]
     },
     "execution_count": 12,
     "metadata": {},
     "output_type": "execute_result"
    }
   ],
   "source": [
    "y.unique()"
   ]
  },
  {
   "cell_type": "code",
   "execution_count": 13,
   "metadata": {},
   "outputs": [
    {
     "data": {
      "text/plain": [
       "array([-1, 'attack'], dtype=object)"
      ]
     },
     "execution_count": 13,
     "metadata": {},
     "output_type": "execute_result"
    }
   ],
   "source": [
    "# 訓練前標籤未處理使用\n",
    "y_true=y.copy()\n",
    "attack = ['DDoS', 'PortScan', 'Bot', 'Infiltration', 'Web Attack � Brute Force', 'Web Attack � XSS', 'Web Attack � Sql Injection','DoS Hulk','DoS GoldenEye','FTP-Patator'\n",
    ",'SSH-Patator','DoS slowloris','DoS Slowhttptest','Heartbleed']\n",
    "normal = 'BENIGN'\n",
    "y_true=y_true.replace(attack, 1)\n",
    "y_true=y_true.replace(normal, -1)\n",
    "y_true.unique()"
   ]
  },
  {
   "cell_type": "code",
   "execution_count": 15,
   "metadata": {},
   "outputs": [
    {
     "name": "stdout",
     "output_type": "stream",
     "text": [
      "706969\n"
     ]
    },
    {
     "ename": "AttributeError",
     "evalue": "'numpy.ndarray' object has no attribute 'value_counts'",
     "output_type": "error",
     "traceback": [
      "\u001b[1;31m---------------------------------------------------------------------------\u001b[0m",
      "\u001b[1;31mAttributeError\u001b[0m                            Traceback (most recent call last)",
      "\u001b[1;32m~\\AppData\\Local\\Temp\\ipykernel_15232\\1457901535.py\u001b[0m in \u001b[0;36m<module>\u001b[1;34m\u001b[0m\n\u001b[0;32m      1\u001b[0m \u001b[0mprint\u001b[0m\u001b[1;33m(\u001b[0m\u001b[0mlen\u001b[0m\u001b[1;33m(\u001b[0m\u001b[0my_test\u001b[0m\u001b[1;33m)\u001b[0m\u001b[1;33m)\u001b[0m\u001b[1;33m\u001b[0m\u001b[1;33m\u001b[0m\u001b[0m\n\u001b[1;32m----> 2\u001b[1;33m \u001b[0my_test\u001b[0m\u001b[1;33m.\u001b[0m\u001b[0mvalue_counts\u001b[0m\u001b[1;33m(\u001b[0m\u001b[1;33m)\u001b[0m\u001b[1;33m\u001b[0m\u001b[1;33m\u001b[0m\u001b[0m\n\u001b[0m",
      "\u001b[1;31mAttributeError\u001b[0m: 'numpy.ndarray' object has no attribute 'value_counts'"
     ]
    }
   ],
   "source": [
    "print(len(y_true))\n",
    "y_true.value_counts()"
   ]
  },
  {
   "cell_type": "code",
   "execution_count": 40,
   "metadata": {},
   "outputs": [
    {
     "data": {
      "text/plain": [
       "-1    2261376\n",
       " 1     569367\n",
       "dtype: int64"
      ]
     },
     "execution_count": 40,
     "metadata": {},
     "output_type": "execute_result"
    }
   ],
   "source": [
    "# 訓練前標籤未處理使用\n",
    "attack = ['DDoS', 'PortScan', 'Bot', 'Infiltration', 'Web Attack � Brute Force', 'Web Attack � XSS', 'Web Attack � Sql Injection','DoS Hulk','DoS GoldenEye','FTP-Patator'\n",
    ",'SSH-Patator','DoS slowloris','DoS Slowhttptest','Heartbleed']\n",
    "y_pred[y_pred == normal]=-1\n",
    "a = np.where(y_pred == -1, -1, 1)\n",
    "pd.Series(a).value_counts()"
   ]
  },
  {
   "cell_type": "code",
   "execution_count": 32,
   "metadata": {},
   "outputs": [
    {
     "name": "stdout",
     "output_type": "stream",
     "text": [
      "2830743\n"
     ]
    },
    {
     "data": {
      "text/plain": [
       "-1    2593687\n",
       " 1     237056\n",
       "dtype: int64"
      ]
     },
     "execution_count": 32,
     "metadata": {},
     "output_type": "execute_result"
    }
   ],
   "source": [
    "# 前處理雙分類使用這邊\n",
    "print(len(y_pred))\n",
    "y_pred = np.where(y_pred == 1, -1, 1)\n",
    "pd.Series(y_pred).value_counts()"
   ]
  },
  {
   "cell_type": "code",
   "execution_count": 16,
   "metadata": {},
   "outputs": [
    {
     "data": {
      "text/plain": [
       "array([[567290,    540],\n",
       "       [   795, 138344]], dtype=int64)"
      ]
     },
     "execution_count": 16,
     "metadata": {},
     "output_type": "execute_result"
    }
   ],
   "source": [
    "# 混淆矩陣\n",
    "from sklearn.metrics import confusion_matrix\n",
    "cf_matrix = confusion_matrix(y_test, y_pred)\n",
    "tn, fp, fn, tp = cf_matrix.ravel()\n",
    "cf_matrix"
   ]
  },
  {
   "cell_type": "code",
   "execution_count": 17,
   "metadata": {},
   "outputs": [
    {
     "data": {
      "image/png": "[encoded data removed]",
      "text/plain": [
       "<Figure size 432x288 with 2 Axes>"
      ]
     },
     "metadata": {
      "needs_background": "light"
     },
     "output_type": "display_data"
    }
   ],
   "source": [
    "import seaborn as sns\n",
    "import matplotlib.pyplot as plt \n",
    "ax = sns.heatmap(cf_matrix, annot=True, cmap='Blues')\n",
    "\n",
    "ax.set_title('Confusion Matrix with labels\\n\\n');\n",
    "ax.set_xlabel('\\nPredicted Values')\n",
    "ax.set_ylabel('Actual Values ');\n",
    "\n",
    "## Ticket labels - List must be in alphabetical order\n",
    "# ax.xaxis.set_ticklabels(['False','True'])\n",
    "# ax.yaxis.set_ticklabels(['False','True'])\n",
    "\n",
    "## Display the visualization of the Confusion Matrix.\n",
    "plt.show()\n",
    "# plt.savefig('img/new_confusion_matrix_32.png')"
   ]
  },
  {
   "cell_type": "code",
   "execution_count": null,
   "metadata": {},
   "outputs": [],
   "source": []
  },
  {
   "cell_type": "code",
   "execution_count": null,
   "metadata": {},
   "outputs": [],
   "source": []
  },
  {
   "cell_type": "code",
   "execution_count": null,
   "metadata": {},
   "outputs": [],
   "source": []
  },
  {
   "cell_type": "code",
   "execution_count": 18,
   "metadata": {},
   "outputs": [],
   "source": [
    "from sklearn.metrics import classification_report, multilabel_confusion_matrix\n",
    "def multilabel_matrix(y_true, y_pred, labels=None):\n",
    "    mlm = multilabel_confusion_matrix(y_true, y_pred, labels=labels)\n",
    "    df_performance = pd.DataFrame(index=labels, columns=['accuracy', 'precision',\n",
    "                                                         'recall', 'f1_score', 'support'])\n",
    "    for i, label in enumerate(labels):\n",
    "        tn, fp, fn, tp = mlm[i].ravel()\n",
    "        accuracy = (tn + tp) / (tn + fp + fn + tp)\n",
    "        precision = tp / (tp + fp)\n",
    "        recall = tp / (tp + fn)\n",
    "        support = tp + fn\n",
    "\n",
    "        f1_score = 2*precision * recall / (precision + recall)\n",
    "        df_performance.loc[label] = [round(accuracy, 4), round(precision,4), \\\n",
    "                                     round(recall, 4), round(f1_score,4), support]\n",
    "    return df_performance"
   ]
  },
  {
   "cell_type": "code",
   "execution_count": 19,
   "metadata": {},
   "outputs": [
    {
     "name": "stdout",
     "output_type": "stream",
     "text": [
      "              precision    recall  f1-score   support\n",
      "\n",
      "      BENIGN       1.00      1.00      1.00    567830\n",
      "      attack       1.00      0.99      1.00    139139\n",
      "\n",
      "    accuracy                           1.00    706969\n",
      "   macro avg       1.00      1.00      1.00    706969\n",
      "weighted avg       1.00      1.00      1.00    706969\n",
      "\n"
     ]
    },
    {
     "data": {
      "text/html": [
       "<div>\n",
       "<style scoped>\n",
       "    .dataframe tbody tr th:only-of-type {\n",
       "        vertical-align: middle;\n",
       "    }\n",
       "\n",
       "    .dataframe tbody tr th {\n",
       "        vertical-align: top;\n",
       "    }\n",
       "\n",
       "    .dataframe thead th {\n",
       "        text-align: right;\n",
       "    }\n",
       "</style>\n",
       "<table border=\"1\" class=\"dataframe\">\n",
       "  <thead>\n",
       "    <tr style=\"text-align: right;\">\n",
       "      <th></th>\n",
       "      <th>accuracy</th>\n",
       "      <th>precision</th>\n",
       "      <th>recall</th>\n",
       "      <th>f1_score</th>\n",
       "      <th>support</th>\n",
       "    </tr>\n",
       "  </thead>\n",
       "  <tbody>\n",
       "    <tr>\n",
       "      <th>BENIGN</th>\n",
       "      <td>0.9981</td>\n",
       "      <td>0.999</td>\n",
       "      <td>0.9986</td>\n",
       "      <td>0.9988</td>\n",
       "      <td>568085</td>\n",
       "    </tr>\n",
       "    <tr>\n",
       "      <th>attack</th>\n",
       "      <td>0.9981</td>\n",
       "      <td>0.9943</td>\n",
       "      <td>0.9961</td>\n",
       "      <td>0.9952</td>\n",
       "      <td>138884</td>\n",
       "    </tr>\n",
       "  </tbody>\n",
       "</table>\n",
       "</div>"
      ],
      "text/plain": [
       "       accuracy precision  recall f1_score support\n",
       "BENIGN   0.9981     0.999  0.9986   0.9988  568085\n",
       "attack   0.9981    0.9943  0.9961   0.9952  138884"
      ]
     },
     "execution_count": 19,
     "metadata": {},
     "output_type": "execute_result"
    }
   ],
   "source": [
    "from sklearn.metrics import classification_report, multilabel_confusion_matrix\n",
    "y_train_pred_labels = le.inverse_transform(y_pred)\n",
    "y_train_labels = le.inverse_transform(y_test)\n",
    "print(classification_report(y_train_labels, y_train_pred_labels))\n",
    "\n",
    "performance = multilabel_matrix(y_train_pred_labels, y_train_labels, labels=le.classes_)\n",
    "performance"
   ]
  },
  {
   "cell_type": "code",
   "execution_count": null,
   "metadata": {},
   "outputs": [],
   "source": []
  },
  {
   "cell_type": "code",
   "execution_count": null,
   "metadata": {},
   "outputs": [],
   "source": []
  },
  {
   "cell_type": "markdown",
   "metadata": {},
   "source": [
    "# 儲存模型檔"
   ]
  },
  {
   "cell_type": "code",
   "execution_count": 20,
   "metadata": {},
   "outputs": [
    {
     "data": {
      "text/plain": [
       "['model/pkl/new_no_port_randomForest_32.pkl']"
      ]
     },
     "execution_count": 20,
     "metadata": {},
     "output_type": "execute_result"
    }
   ],
   "source": [
    "jb.dump([std_scaler, mm_scaler, le], 'model/pkl/new_no_port_randomForest_32.pkl')"
   ]
  },
  {
   "cell_type": "code",
   "execution_count": null,
   "metadata": {},
   "outputs": [],
   "source": []
  }
 ],
 "metadata": {
  "kernelspec": {
   "display_name": "Python 3.7.6 64-bit",
   "language": "python",
   "name": "python3"
  },
  "language_info": {
   "codemirror_mode": {
    "name": "ipython",
    "version": 3
   },
   "file_extension": ".py",
   "mimetype": "text/x-python",
   "name": "python",
   "nbconvert_exporter": "python",
   "pygments_lexer": "ipython3",
   "version": "3.7.6"
  },
  "orig_nbformat": 4,
  "vscode": {
   "interpreter": {
    "hash": "3499bcc59dd07de3752bcaf4b431b7cc0c8d7df018f3c7c8f72730d6f0400322"
   }
  }
 },
 "nbformat": 4,
 "nbformat_minor": 2
}
